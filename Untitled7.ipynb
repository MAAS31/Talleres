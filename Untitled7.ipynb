
      "cell_type": "code",
      "source": [
        "import pandas as pd\n",
        "from sklearn.model_selection import train_test_split\n",
        "from sklearn.linear_model import LinearRegression\n",
        "from sklearn.preprocessing import StandardScaler\n",
        "from sklearn.metrics import mean_squared_error\n",
        "data_train = pd.read_csv(\"data_wage_train.csv\")\n",
        "\n",
        "X = data_train.drop(\"wage\", axis=1)\n",
        "y = data_train[\"wage\"]\n",
        "\n",
        "X_train, X_val, y_train, y_val = train_test_split(X, y, test_size=0.5, random_state=65)\n",
        "\n",
        "scaler = StandardScaler()\n",
        "X_train_scaled = scaler.fit_transform(X_train)\n",
        "X_val_scaled = scaler.transform(X_val)\n",
        "model = LinearRegression()\n",
        "\n",
        "model.fit(X_train_scaled, y_train)\n",
        "\n",
        "y_pred = model.predict(X_val_scaled)\n",
        "mse = mean_squared_error(y_val, y_pred)\n",
        "print(\"Mean Squared Error (MSE) en conjunto de validación:\", mse)\n",
        "data_test = pd.read_csv(\"data_test.csv\")\n",
        "\n",
        "X_test_scaled = scaler.transform(data_test)\n",
        "\n",
        "predictions = model.predict(X_test_scaled)\n",
        "\n",
        "predictions_df = pd.DataFrame({'Expected': predictions})\n",
        "predictions_df['id'] = data_test.index\n",
        "predictions_df = predictions_df[['id', 'Expected']]\n",
        "predictions_df.to_csv(\"Maury363.csv\", index=False)"
      ],
      "metadata": {
        "colab": {
          "base_uri": "https://localhost:8080/"
        },
        "id": "LDgfY3_WWstu",
        "outputId": "89d0fd2d-8ca9-42c2-e076-82ae083349f8"
      },
      "execution_count": 57,
      "outputs": [
        {
          "output_type": "stream",
          "name": "stdout",
          "text": [
            "Mean Squared Error (MSE) en conjunto de validación: 9.076714567266881\n"
          ]
        }
      ]
    }
  ]
}
