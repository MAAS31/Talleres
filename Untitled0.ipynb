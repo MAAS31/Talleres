{
  "nbformat": 4,
  "nbformat_minor": 0,
  "metadata": {
    "colab": {
      "provenance": []
    },
    "kernelspec": {
      "name": "python3",
      "display_name": "Python 3"
    },
    "language_info": {
      "name": "python"
    }
  },
  "cells": [
    {
      "cell_type": "code",
      "execution_count": 44,
      "metadata": {
        "colab": {
          "base_uri": "https://localhost:8080/"
        },
        "id": "h9zhqTpuwdEC",
        "outputId": "948fae35-0c6f-43d7-b59e-3b91d8969315"
      },
      "outputs": [
        {
          "output_type": "stream",
          "name": "stdout",
          "text": [
            "Los datos ingresados deben ser enteros\n"
          ]
        }
      ],
      "source": [
        "def suma_y_divide (a, b, c):\n",
        "  if type(a) == int and type (b) == int and type (c) == int:\n",
        "    suma = a + b\n",
        "    if c ==0:\n",
        "      print(f\"El numero (c) no puede ser 0 \")\n",
        "    else:\n",
        "      division = suma / c\n",
        "      print(division)\n",
        "  else:\n",
        "    print(f\"Los datos ingresados deben ser enteros\")\n",
        "suma_y_divide(2, 5, \"g\")"
      ]
    }
  ]
}