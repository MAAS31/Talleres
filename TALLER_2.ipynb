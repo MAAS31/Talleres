{
  "nbformat": 4,
  "nbformat_minor": 0,
  "metadata": {
    "colab": {
      "provenance": []
    },
    "kernelspec": {
      "name": "python3",
      "display_name": "Python 3"
    },
    "language_info": {
      "name": "python"
    }
  },
  "cells": [
    {
      "cell_type": "markdown",
      "source": [
        "** 1) Define dos variables, nombre y edad, e imprime un mensaje de saludo que las utilice.**"
      ],
      "metadata": {
        "id": "dOJPoWUc28gR"
      }
    },
    {
      "cell_type": "code",
      "execution_count": null,
      "metadata": {
        "id": "K7P18yc42jtR"
      },
      "outputs": [],
      "source": [
        "##Definir las variables##\n",
        "nombre = \"Maury\"\n",
        "edad = 22"
      ]
    },
    {
      "cell_type": "code",
      "source": [
        "### Crear mensaje de saludo\n",
        "mensaje_saludo = f\"Hola, mi nombre es {nombre} y actualmente tengo {edad} años.\""
      ],
      "metadata": {
        "id": "yt6VQrjj2rEd"
      },
      "execution_count": null,
      "outputs": []
    },
    {
      "cell_type": "code",
      "source": [
        "# Imprimir mensaje de saludo\n",
        "print(mensaje_saludo)"
      ],
      "metadata": {
        "colab": {
          "base_uri": "https://localhost:8080/"
        },
        "id": "nLydz7AI2wNz",
        "outputId": "3dc61d51-69f4-4009-fe58-3f8a9b64636a"
      },
      "execution_count": null,
      "outputs": [
        {
          "output_type": "stream",
          "name": "stdout",
          "text": [
            "Hola, mi nombre es Maury y actualmente tengo 22 años.\n"
          ]
        }
      ]
    },
    {
      "cell_type": "markdown",
      "source": [
        "**2) Calcula y muestra el área de un círculo. Pide al usuario que ingrese el radio.**"
      ],
      "metadata": {
        "id": "DTd1YkX52zgT"
      }
    },
    {
      "cell_type": "code",
      "source": [
        "# Solicitar al usuario que ingrese el radio del círculo\n",
        "radio = float(input(\"Por favor, ingresa el radio del círculo: \"))\n",
        "# Calcular el área del círculo\n",
        "area = 3.14159 * radio * radio\n",
        "# Mostrar el área del círculo\n",
        "print(\"El área del círculo es:\", area)\n"
      ],
      "metadata": {
        "colab": {
          "base_uri": "https://localhost:8080/"
        },
        "id": "Z19BbiRJ3xR2",
        "outputId": "0c866bb0-da21-4faf-8a62-2ec38afeb4d6"
      },
      "execution_count": null,
      "outputs": [
        {
          "output_type": "stream",
          "name": "stdout",
          "text": [
            "Por favor, ingresa el radio del círculo: 8\n",
            "El área del círculo es: 201.06176\n"
          ]
        }
      ]
    },
    {
      "cell_type": "markdown",
      "source": [
        "**3)Escribe una función calcular_promedio que tome una lista de números como argumento y devuelva su promedio.**"
      ],
      "metadata": {
        "id": "TaHl451I3_tG"
      }
    },
    {
      "cell_type": "code",
      "source": [
        "def calcular_promedio(lista_numeros):\n",
        "    if len(lista_numeros) == 0:\n",
        "        return 0\n",
        "    suma_total = sum(lista_numeros)\n",
        "    promedio = suma_total / len(lista_numeros)\n",
        "    return promedio\n",
        "# Ejemplo de uso\n",
        "numeros = [2, 4, 6, 8, 10, 12]\n",
        "promedio_resultado = calcular_promedio(numeros)\n",
        "print(\"El promedio es:\", promedio_resultado)\n"
      ],
      "metadata": {
        "colab": {
          "base_uri": "https://localhost:8080/"
        },
        "id": "8DSprEks4FuO",
        "outputId": "a232d0a2-aae6-4956-a983-1aaeab4d495e"
      },
      "execution_count": null,
      "outputs": [
        {
          "output_type": "stream",
          "name": "stdout",
          "text": [
            "El promedio es: 7.0\n"
          ]
        }
      ]
    },
    {
      "cell_type": "markdown",
      "source": [
        "**4)Crea una lista de números y utiliza un bucle for para mostrar los números mayores que 10.**"
      ],
      "metadata": {
        "id": "xRijPbLu4afq"
      }
    },
    {
      "cell_type": "code",
      "source": [
        "# Crear una lista de números\n",
        "numeros = [2, 12, 31, 15, 21, 259, 8]\n",
        "# Utilizar un bucle for para mostrar los números mayores que 10\n",
        "for numero in numeros:\n",
        "    if numero > 10:\n",
        "        print(numero)\n"
      ],
      "metadata": {
        "colab": {
          "base_uri": "https://localhost:8080/"
        },
        "id": "ER0HoOsw4etr",
        "outputId": "bebd1eb2-e729-422c-87da-47cef4ca7e5c"
      },
      "execution_count": null,
      "outputs": [
        {
          "output_type": "stream",
          "name": "stdout",
          "text": [
            "12\n",
            "31\n",
            "15\n",
            "21\n",
            "259\n"
          ]
        }
      ]
    },
    {
      "cell_type": "markdown",
      "source": [
        "**5) Define un diccionario que almacene los precios de tres productos diferentes. Pide al usuario que ingrese el nombre de un producto y muestra su precio.**"
      ],
      "metadata": {
        "id": "EH4zhuy946h7"
      }
    },
    {
      "cell_type": "code",
      "source": [
        "# Definir un diccionario con los precios de los productos\n",
        "precios_productos = {\n",
        "    \"Azucar\": 15990,\n",
        "    \"Sal\": 2500,\n",
        "    \"Limon\": 975\n",
        "}\n",
        "# Solicitar al usuario que ingrese el nombre de un producto\n",
        "producto_ingresado = input(\"Ingresa el nombre de un producto: \")\n",
        "# Mostrar el precio del producto ingresado (si está en el diccionario)\n",
        "if producto_ingresado in precios_productos:\n",
        "    precio = precios_productos[producto_ingresado]\n",
        "    print(f\"El precio de {producto_ingresado} es: {precio:.2f}\")\n",
        "else:\n",
        "    print(f\"No se encontró el precio para {producto_ingresado}.\")\n"
      ],
      "metadata": {
        "colab": {
          "base_uri": "https://localhost:8080/"
        },
        "id": "7gF0MON85E5Y",
        "outputId": "0d211793-7c28-4536-ac48-f6416778c0d3"
      },
      "execution_count": null,
      "outputs": [
        {
          "output_type": "stream",
          "name": "stdout",
          "text": [
            "Ingresa el nombre de un producto: Limon\n",
            "El precio de Limon es: 975.00\n"
          ]
        }
      ]
    },
    {
      "cell_type": "markdown",
      "source": [
        "**6) Escribe una función es_primo que determine si un número dado es primo o no.**"
      ],
      "metadata": {
        "id": "qFIzznXO5yJu"
      }
    },
    {
      "cell_type": "code",
      "source": [
        "def es_primo(numero):\n",
        "    if numero <= 1:\n",
        "        return False\n",
        "    if numero <= 3:\n",
        "        return True\n",
        "    if numero % 2 == 0 or numero % 3 == 0:\n",
        "        return False\n",
        "    i = 5\n",
        "    while i * i <= numero:\n",
        "        if numero % i == 0 or numero % (i + 2) == 0:\n",
        "            return False\n",
        "        i += 6\n",
        "    return True\n",
        "numero_ingresado = int(input(\"Ingresa un número: \"))\n",
        "if es_primo(numero_ingresado):\n",
        "    print(f\"{numero_ingresado} es un número primo.\")\n",
        "else:\n",
        "    print(f\"{numero_ingresado} no es un número primo.\")\n"
      ],
      "metadata": {
        "colab": {
          "base_uri": "https://localhost:8080/"
        },
        "id": "4QCZMzVF5391",
        "outputId": "79d0dd64-01e6-4bd1-87a0-2ab0d04fed69"
      },
      "execution_count": null,
      "outputs": [
        {
          "output_type": "stream",
          "name": "stdout",
          "text": [
            "Ingresa un número: 4\n",
            "4 no es un número primo.\n"
          ]
        }
      ]
    },
    {
      "cell_type": "markdown",
      "source": [
        "**7) Crea una lista de nombres y utiliza un bucle while para imprimir cada nombre hasta que encuentres el nombre \"Alex\".**"
      ],
      "metadata": {
        "id": "7OjFCd_R6UWb"
      }
    },
    {
      "cell_type": "code",
      "source": [
        "nombres = [\"Maury\", \"Isa\", \"Liliana\", \"Andres\", \"Alex\", \"Laura\"]\n",
        "indice = 0\n",
        "while indice < len(nombres) and nombres[indice] != \"Alex\":\n",
        "    print(nombres[indice])\n",
        "    indice += 1\n"
      ],
      "metadata": {
        "colab": {
          "base_uri": "https://localhost:8080/"
        },
        "id": "kXn4YiUF6jqi",
        "outputId": "dc238a24-bb2a-4607-fc15-98c78509efad"
      },
      "execution_count": null,
      "outputs": [
        {
          "output_type": "stream",
          "name": "stdout",
          "text": [
            "Maury\n",
            "Isa\n",
            "Liliana\n",
            "Andres\n"
          ]
        }
      ]
    },
    {
      "cell_type": "markdown",
      "source": [
        "**8) Escribe una función invertir_cadena que tome una cadena como argumento y devuelva la cadena invertida.**"
      ],
      "metadata": {
        "id": "A2ke1qWg7Aip"
      }
    },
    {
      "cell_type": "code",
      "source": [
        "def invertir_cadena(cadena):\n",
        "    cadena_invertida = cadena[::-1]\n",
        "    return cadena_invertida\n",
        "cadena_original = input(\"Escribe una secuencia (numeros): \")\n",
        "cadena_invertida = invertir_cadena(cadena_original)\n",
        "print(\"Secuencia original:\", cadena_original)\n",
        "print(\"Secuencia invertida:\", cadena_invertida)\n"
      ],
      "metadata": {
        "colab": {
          "base_uri": "https://localhost:8080/"
        },
        "id": "n1FOiBo27DwI",
        "outputId": "1d39f8ea-0451-4611-ec1d-210e12325582"
      },
      "execution_count": null,
      "outputs": [
        {
          "output_type": "stream",
          "name": "stdout",
          "text": [
            "Escribe una secuencia (numeros): 512\n",
            "Secuencia original: 512\n",
            "Secuencia invertida: 215\n"
          ]
        }
      ]
    },
    {
      "cell_type": "markdown",
      "source": [
        "**9) Crea una lista de números pares del 2 al 20 utilizando una comprensión de lista.**"
      ],
      "metadata": {
        "id": "fgwtqnUs7Xzn"
      }
    },
    {
      "cell_type": "code",
      "source": [
        "numeros_pares = [numero for numero in range(2, 21, 2)]\n",
        "print(numeros_pares)\n"
      ],
      "metadata": {
        "colab": {
          "base_uri": "https://localhost:8080/"
        },
        "id": "9kTRCPRu7dqO",
        "outputId": "61bdaa11-f484-4496-8a31-eb5ae6f3762b"
      },
      "execution_count": null,
      "outputs": [
        {
          "output_type": "stream",
          "name": "stdout",
          "text": [
            "[2, 4, 6, 8, 10, 12, 14, 16, 18, 20]\n"
          ]
        }
      ]
    },
    {
      "cell_type": "markdown",
      "source": [
        "**10) Escribe un programa que genere los primeros n\n",
        " términos de la serie de Fibonacci a discresión del usuario.**"
      ],
      "metadata": {
        "id": "nfBo6oxH76Rk"
      }
    },
    {
      "cell_type": "code",
      "source": [
        "def generar_fibonacci(n):\n",
        "    fibonacci = [0, 1]\n",
        "    while len(fibonacci) < n:\n",
        "        siguiente_numero = fibonacci[-1] + fibonacci[-2]\n",
        "        fibonacci.append(siguiente_numero)\n",
        "    return fibonacci\n",
        "n = int(input(\"Ingresa el número de Fibonacci a generar: \"))\n",
        "serie_fibonacci = generar_fibonacci(n)\n",
        "print(\"Serie de Fibonacci:\")\n",
        "print(serie_fibonacci)\n"
      ],
      "metadata": {
        "colab": {
          "base_uri": "https://localhost:8080/"
        },
        "id": "ZtHTt5i68HbV",
        "outputId": "ae77ba3d-b769-4985-c010-643feb72f6d0"
      },
      "execution_count": null,
      "outputs": [
        {
          "output_type": "stream",
          "name": "stdout",
          "text": [
            "Ingresa el número de Fibonacci a generar: 12\n",
            "Serie de Fibonacci:\n",
            "[0, 1, 1, 2, 3, 5, 8, 13, 21, 34, 55, 89]\n"
          ]
        }
      ]
    },
    {
      "cell_type": "markdown",
      "source": [
        "**11) Escribe una función calcular_interes_simple que calcule el interés simple dado el principal, la tasa de interés y el tiempo en años.**"
      ],
      "metadata": {
        "id": "JS2Tqu208fza"
      }
    },
    {
      "cell_type": "code",
      "source": [
        "def calcular_interes_simple(principal, tasa_interes, tiempo_anios):\n",
        "    interes = (principal * tasa_interes * tiempo_anios) / 100\n",
        "    return interes\n",
        "principal = float(input(\"Ingresa el monto principal: \"))\n",
        "tasa_interes = float(input(\"Ingresa la tasa de interés (%): \"))\n",
        "tiempo_anios = float(input(\"Ingresa el tiempo en años: \"))\n",
        "\n",
        "interes_calculado = calcular_interes_simple(principal, tasa_interes, tiempo_anios)\n",
        "print(\"El interés simple calculado es:\", interes_calculado)\n"
      ],
      "metadata": {
        "colab": {
          "base_uri": "https://localhost:8080/"
        },
        "id": "ypCfEVIg8pc4",
        "outputId": "d8ec23b8-b1ca-4e6c-f227-b5b922aff13d"
      },
      "execution_count": null,
      "outputs": [
        {
          "output_type": "stream",
          "name": "stdout",
          "text": [
            "Ingresa el monto principal: 215152\n",
            "Ingresa la tasa de interés (%): 12\n",
            "Ingresa el tiempo en años: 1\n",
            "El interés simple calculado es: 25818.24\n"
          ]
        }
      ]
    },
    {
      "cell_type": "markdown",
      "source": [
        "**12) Crea una lista de precios de acciones. Utiliza una función para calcular el promedio de esos precios.**"
      ],
      "metadata": {
        "id": "M-JP3BQL83W5"
      }
    },
    {
      "cell_type": "code",
      "source": [
        "def calcular_promedio_precios(lista_precios):\n",
        "    if len(lista_precios) == 0:\n",
        "        return 0\n",
        "    suma_total = sum(lista_precios)\n",
        "    promedio = suma_total / len(lista_precios)\n",
        "    return promedio\n",
        "\n",
        "precios_acciones = [205025, 155130, 454475, 50210, 501490]\n",
        "promedio_precios = calcular_promedio_precios(precios_acciones)\n",
        "print(\"El promedio de los precios de acciones es:\", promedio_precios)\n"
      ],
      "metadata": {
        "colab": {
          "base_uri": "https://localhost:8080/"
        },
        "id": "CDTLMhUl89Pg",
        "outputId": "d33273a2-ee8d-46c0-9fce-9abe202e33a5"
      },
      "execution_count": null,
      "outputs": [
        {
          "output_type": "stream",
          "name": "stdout",
          "text": [
            "El promedio de los precios de acciones es: 273266.0\n"
          ]
        }
      ]
    },
    {
      "cell_type": "markdown",
      "source": [
        "**13)Escribe una función convertir_dolares_a_euros que tome una cantidad en dólares y la convierta a euros (usando una tasa de cambio fija).**"
      ],
      "metadata": {
        "id": "WwbJz-5-9tuu"
      }
    },
    {
      "cell_type": "code",
      "source": [
        "def convertir_dolares_a_euros(cantidad_dolares, tasa_cambio):\n",
        "    cantidad_euros = cantidad_dolares * tasa_cambio\n",
        "    return cantidad_euros\n",
        "# Tasa de cambio: 1 dólar = 0.50\n",
        "tasa_cambio = 0.50\n",
        "cantidad_dolares = float(input(\"Ingresa la cantidad en dólares: \"))\n",
        "cantidad_euros = convertir_dolares_a_euros(cantidad_dolares, tasa_cambio)\n",
        "\n",
        "print(f\"{cantidad_dolares} dólares son aproximadamente {cantidad_euros:.2f} euros.\")\n"
      ],
      "metadata": {
        "colab": {
          "base_uri": "https://localhost:8080/"
        },
        "id": "C4rHV0PG99YV",
        "outputId": "45a585f2-e145-46da-fe39-2379bcbf2eec"
      },
      "execution_count": null,
      "outputs": [
        {
          "output_type": "stream",
          "name": "stdout",
          "text": [
            "Ingresa la cantidad en dólares: 4\n",
            "4.0 dólares son aproximadamente 2.00 euros.\n"
          ]
        }
      ]
    },
    {
      "cell_type": "code",
      "source": [],
      "metadata": {
        "id": "0bKfItNgDXN8"
      },
      "execution_count": null,
      "outputs": []
    },
    {
      "cell_type": "markdown",
      "source": [
        "**14) Crea una función calcular_factorial que calcule el factorial de un número dado.**"
      ],
      "metadata": {
        "id": "de7jvn5nDYUc"
      }
    },
    {
      "cell_type": "code",
      "source": [
        "def calcular_factorial(numero):\n",
        "    factorial = 1\n",
        "    for i in range(1, numero + 1):\n",
        "        factorial *= i\n",
        "    return factorial\n",
        "\n",
        "# Ejemplo de uso\n",
        "numero_ingresado = int(input(\"Ingresa un número: \"))\n",
        "factorial_resultado = calcular_factorial(numero_ingresado)\n",
        "print(f\"El factorial de {numero_ingresado} es {factorial_resultado}\")\n"
      ],
      "metadata": {
        "colab": {
          "base_uri": "https://localhost:8080/"
        },
        "id": "LrHsPdp0DedV",
        "outputId": "6706fd94-b58f-4470-ad5f-59c9c0bf7262"
      },
      "execution_count": null,
      "outputs": [
        {
          "output_type": "stream",
          "name": "stdout",
          "text": [
            "Ingresa un número: 5\n",
            "El factorial de 5 es 120\n"
          ]
        }
      ]
    },
    {
      "cell_type": "markdown",
      "source": [
        "**15) Define un diccionario que contenga los nombres y saldos de cuentas bancarias. Escribe una función que encuentre la cuenta con el saldo más alto.**"
      ],
      "metadata": {
        "id": "aoE_n779Dlqy"
      }
    },
    {
      "cell_type": "code",
      "source": [
        "def encontrar_cuenta_con_saldo_mas_alto(cuentas):\n",
        "    cuenta_maxima = None\n",
        "    saldo_maximo = float('-inf')  # Inicializamos con el valor negativo infinito\n",
        "\n",
        "    for cuenta, saldo in cuentas.items():\n",
        "        if saldo > saldo_maximo:\n",
        "            saldo_maximo = saldo\n",
        "            cuenta_maxima = cuenta\n",
        "\n",
        "    return cuenta_maxima, saldo_maximo\n",
        "\n",
        "# Definir el diccionario de cuentas bancarias\n",
        "cuentas_bancarias = {\n",
        "    \"Maury\": 1500,\n",
        "    \"Isa\": 2200,\n",
        "    \"Andres\": 1800,\n",
        "    \"Daniel\": 3000,\n",
        "    \"Laura\": 2500\n",
        "}\n",
        "\n",
        "# Encontrar la cuenta con el saldo más alto\n",
        "cuenta_con_saldo_mas_alto, saldo_mas_alto = encontrar_cuenta_con_saldo_mas_alto(cuentas_bancarias)\n",
        "\n",
        "print(f\"La cuenta con el saldo más alto es {cuenta_con_saldo_mas_alto} con un saldo de {saldo_mas_alto}\")\n"
      ],
      "metadata": {
        "id": "-FsG9mySDvN7"
      },
      "execution_count": null,
      "outputs": []
    },
    {
      "cell_type": "markdown",
      "source": [
        "**16) Escribe un programa que calcule e imprima los primeros\n",
        " números triangulares a discresión del usuario.**"
      ],
      "metadata": {
        "id": "sEQrB4cJD1UU"
      }
    },
    {
      "cell_type": "code",
      "source": [
        "def calcular_numero_triangular(n):\n",
        "    return n * (n + 1) // 2\n",
        "\n",
        "# Solicitar al usuario la cantidad de números triangulares a calcular\n",
        "cantidad_numeros = int(input(\"Ingresa la cantidad de números triangulares a calcular: \"))\n",
        "\n",
        "# Calcular e imprimir los primeros números triangulares\n",
        "for i in range(1, cantidad_numeros + 1):\n",
        "    numero_triangular = calcular_numero_triangular(i)\n",
        "    print(f\"El número triangular {i} es: {numero_triangular}\")\n"
      ],
      "metadata": {
        "colab": {
          "base_uri": "https://localhost:8080/"
        },
        "id": "m0GWg4ieD8k0",
        "outputId": "5063d8fb-cbaa-4fd7-b449-ee2091e0fc68"
      },
      "execution_count": null,
      "outputs": [
        {
          "output_type": "stream",
          "name": "stdout",
          "text": [
            "Ingresa la cantidad de números triangulares a calcular: 2\n",
            "El número triangular 1 es: 1\n",
            "El número triangular 2 es: 3\n"
          ]
        }
      ]
    },
    {
      "cell_type": "markdown",
      "source": [
        "**17)Crea una función calcular_descuento que calcule el precio final después de aplicar un descuento a un artículo.**"
      ],
      "metadata": {
        "id": "vhg47FtgENj-"
      }
    },
    {
      "cell_type": "code",
      "source": [
        "def calcular_descuento(precio_original, porcentaje_descuento):\n",
        "    descuento = precio_original * (porcentaje_descuento / 100)\n",
        "    precio_final = precio_original - descuento\n",
        "    return precio_final\n",
        "\n",
        "# Ejemplo de uso\n",
        "precio_original = float(input(\"Ingresa el precio original del artículo: \"))\n",
        "porcentaje_descuento = float(input(\"Ingresa el porcentaje de descuento (%): \"))\n",
        "\n",
        "precio_con_descuento = calcular_descuento(precio_original, porcentaje_descuento)\n",
        "print(f\"El precio final con descuento es: {precio_con_descuento:.2f}\")\n"
      ],
      "metadata": {
        "colab": {
          "base_uri": "https://localhost:8080/"
        },
        "id": "mBfxoNQwETX2",
        "outputId": "10b86260-3e8b-45b3-d253-4783c78a134a"
      },
      "execution_count": null,
      "outputs": [
        {
          "output_type": "stream",
          "name": "stdout",
          "text": [
            "Ingresa el precio original del artículo: 56\n",
            "Ingresa el porcentaje de descuento (%): 2\n",
            "El precio final con descuento es: 54.88\n"
          ]
        }
      ]
    },
    {
      "cell_type": "markdown",
      "source": [
        "**18) Escribe una función que tome una lista de números y devuelva una nueva lista con solo los números pares.**"
      ],
      "metadata": {
        "id": "b5Bd1glpExoe"
      }
    },
    {
      "cell_type": "code",
      "source": [
        "def filtrar_numeros_pares(lista_numeros):\n",
        "    numeros_pares = [numero for numero in lista_numeros if numero % 2 == 0]\n",
        "    return numeros_pares\n",
        "\n",
        "# Ejemplo de uso\n",
        "numeros = [1, 2, 3, 4, 5, 6, 7, 8, 9, 10]\n",
        "numeros_pares = filtrar_numeros_pares(numeros)\n",
        "print(\"Números pares:\", numeros_pares)\n"
      ],
      "metadata": {
        "colab": {
          "base_uri": "https://localhost:8080/"
        },
        "id": "P4BC6RtiElkF",
        "outputId": "54e51d2b-780b-4277-818d-d931397d3757"
      },
      "execution_count": null,
      "outputs": [
        {
          "output_type": "stream",
          "name": "stdout",
          "text": [
            "Números pares: [2, 4, 6, 8, 10]\n"
          ]
        }
      ]
    },
    {
      "cell_type": "markdown",
      "source": [
        "**19)Crea una lista de números y utiliza una función para encontrar el número más grande y el más pequeño.**"
      ],
      "metadata": {
        "id": "HWjMmzP3E8N0"
      }
    },
    {
      "cell_type": "code",
      "source": [
        "def encontrar_numero_mas_grande(lista_numeros):\n",
        "    mas_grande = max(lista_numeros)\n",
        "    return mas_grande\n",
        "\n",
        "def encontrar_numero_mas_pequeno(lista_numeros):\n",
        "    mas_pequeno = min(lista_numeros)\n",
        "    return mas_pequeno\n",
        "\n",
        "# Crear una lista de números\n",
        "numeros = [31, 112, 467, 9, 78, 247, 6]\n",
        "\n",
        "# Encontrar el número más grande y el más pequeño utilizando las funciones\n",
        "numero_mas_grande = encontrar_numero_mas_grande(numeros)\n",
        "numero_mas_pequeno = encontrar_numero_mas_pequeno(numeros)\n",
        "\n",
        "print(\"Número más grande:\", numero_mas_grande)\n",
        "print(\"Número más pequeño:\", numero_mas_pequeno)\n"
      ],
      "metadata": {
        "id": "vgbdsKDUFBkr",
        "colab": {
          "base_uri": "https://localhost:8080/"
        },
        "outputId": "77a18f32-3c70-450b-88dc-0d83cba67404"
      },
      "execution_count": 1,
      "outputs": [
        {
          "output_type": "stream",
          "name": "stdout",
          "text": [
            "Número más grande: 467\n",
            "Número más pequeño: 6\n"
          ]
        }
      ]
    },
    {
      "cell_type": "markdown",
      "source": [
        "**20) Escribe un programa que genere e imprima los primeros\n",
        " términos de la secuencia de números de Pell a discresión del usuario.**"
      ],
      "metadata": {
        "id": "dy4ccF0FL8B8"
      }
    },
    {
      "cell_type": "code",
      "source": [
        "def generar_secuencia_pell(n):\n",
        "    if n == 0:\n",
        "        return []\n",
        "    elif n == 1:\n",
        "        return [0]\n",
        "\n",
        "    secuencia = [0, 1]\n",
        "    for i in range(2, n):\n",
        "        siguiente_numero = 2 * secuencia[-1] + secuencia[-2]\n",
        "        secuencia.append(siguiente_numero)\n",
        "\n",
        "    return secuencia\n",
        "\n",
        "# Solicitar al usuario el número de términos de la secuencia de Pell a generar\n",
        "n = int(input(\"Ingresa el número de términos de la secuencia de Pell a generar: \"))\n",
        "\n",
        "# Generar e imprimir los primeros términos de la secuencia de Pell\n",
        "secuencia_pell = generar_secuencia_pell(n)\n",
        "print(\"Secuencia de números de Pell:\")\n",
        "print(secuencia_pell)\n"
      ],
      "metadata": {
        "colab": {
          "base_uri": "https://localhost:8080/"
        },
        "id": "3TgSxNqUMA9r",
        "outputId": "57d7aa1d-bbf9-402a-9645-62baa951abbd"
      },
      "execution_count": 3,
      "outputs": [
        {
          "output_type": "stream",
          "name": "stdout",
          "text": [
            "Ingresa el número de términos de la secuencia de Pell a generar: 25\n",
            "Secuencia de números de Pell:\n",
            "[0, 1, 2, 5, 12, 29, 70, 169, 408, 985, 2378, 5741, 13860, 33461, 80782, 195025, 470832, 1136689, 2744210, 6625109, 15994428, 38613965, 93222358, 225058681, 543339720]\n"
          ]
        }
      ]
    },
    {
      "cell_type": "markdown",
      "source": [
        "**21) Crea una función calcular_amortizacion que calcule la amortización de un préstamo a lo largo del tiempo.**"
      ],
      "metadata": {
        "id": "w5qVr0XbMS9Z"
      }
    },
    {
      "cell_type": "code",
      "source": [
        "def calcular_amortizacion(monto_prestamo, tasa_interes_anual, plazo_anios):\n",
        "    tasa_interes_mensual = tasa_interes_anual / 12 / 100\n",
        "    numero_pagos = plazo_anios * 12\n",
        "    cuota_mensual = (monto_prestamo * tasa_interes_mensual) / (1 - (1 + tasa_interes_mensual)**-numero_pagos)\n",
        "\n",
        "    amortizacion = []\n",
        "    saldo_restante = monto_prestamo\n",
        "\n",
        "    for _ in range(numero_pagos):\n",
        "        interes = saldo_restante * tasa_interes_mensual\n",
        "        principal = cuota_mensual - interes\n",
        "        saldo_restante -= principal\n",
        "        amortizacion.append((cuota_mensual, principal, interes, saldo_restante))\n",
        "\n",
        "    return amortizacion\n",
        "\n",
        "# Ejemplo de uso\n",
        "monto_prestamo = float(input(\"Ingresa el monto del préstamo: \"))\n",
        "tasa_interes_anual = float(input(\"Ingresa la tasa de interés anual (%): \"))\n",
        "plazo_anios = int(input(\"Ingresa el plazo en años: \"))\n",
        "\n",
        "tabla_amortizacion = calcular_amortizacion(monto_prestamo, tasa_interes_anual, plazo_anios)\n",
        "\n",
        "print(\"Tabla de Amortización:\")\n",
        "print(\"Cuota Mensual | Principal | Interés | Saldo Restante\")\n",
        "for cuota, principal, interes, saldo in tabla_amortizacion:\n",
        "    print(f\"${cuota:.2f} | ${principal:.2f} | ${interes:.2f} | ${saldo:.2f}\")\n"
      ],
      "metadata": {
        "colab": {
          "base_uri": "https://localhost:8080/"
        },
        "id": "9G8-YMxAMY_H",
        "outputId": "8774c9eb-68a3-46c0-cd40-e8a9102c9bc1"
      },
      "execution_count": 5,
      "outputs": [
        {
          "output_type": "stream",
          "name": "stdout",
          "text": [
            "Ingresa el monto del préstamo: 25481262\n",
            "Ingresa la tasa de interés anual (%): 19\n",
            "Ingresa el plazo en años: 5\n",
            "Tabla de Amortización:\n",
            "Cuota Mensual | Principal | Interés | Saldo Restante\n",
            "$660997.98 | $257544.67 | $403453.31 | $25223717.33\n",
            "$660997.98 | $261622.46 | $399375.52 | $24962094.88\n",
            "$660997.98 | $265764.81 | $395233.17 | $24696330.07\n",
            "$660997.98 | $269972.75 | $391025.23 | $24426357.31\n",
            "$660997.98 | $274247.32 | $386750.66 | $24152109.99\n",
            "$660997.98 | $278589.57 | $382408.41 | $23873520.42\n",
            "$660997.98 | $283000.57 | $377997.41 | $23590519.85\n",
            "$660997.98 | $287481.42 | $373516.56 | $23303038.43\n",
            "$660997.98 | $292033.20 | $368964.78 | $23011005.23\n",
            "$660997.98 | $296657.06 | $364340.92 | $22714348.16\n",
            "$660997.98 | $301354.13 | $359643.85 | $22412994.03\n",
            "$660997.98 | $306125.57 | $354872.41 | $22106868.45\n",
            "$660997.98 | $310972.56 | $350025.42 | $21795895.89\n",
            "$660997.98 | $315896.30 | $345101.68 | $21479999.59\n",
            "$660997.98 | $320897.99 | $340099.99 | $21159101.61\n",
            "$660997.98 | $325978.87 | $335019.11 | $20833122.74\n",
            "$660997.98 | $331140.20 | $329857.78 | $20501982.53\n",
            "$660997.98 | $336383.26 | $324614.72 | $20165599.28\n",
            "$660997.98 | $341709.32 | $319288.66 | $19823889.95\n",
            "$660997.98 | $347119.72 | $313878.26 | $19476770.23\n",
            "$660997.98 | $352615.78 | $308382.20 | $19124154.44\n",
            "$660997.98 | $358198.87 | $302799.11 | $18765955.58\n",
            "$660997.98 | $363870.35 | $297127.63 | $18402085.23\n",
            "$660997.98 | $369631.63 | $291366.35 | $18032453.60\n",
            "$660997.98 | $375484.13 | $285513.85 | $17656969.46\n",
            "$660997.98 | $381429.30 | $279568.68 | $17275540.17\n",
            "$660997.98 | $387468.59 | $273529.39 | $16888071.57\n",
            "$660997.98 | $393603.51 | $267394.47 | $16494468.06\n",
            "$660997.98 | $399835.57 | $261162.41 | $16094632.49\n",
            "$660997.98 | $406166.30 | $254831.68 | $15688466.19\n",
            "$660997.98 | $412597.27 | $248400.71 | $15275868.93\n",
            "$660997.98 | $419130.06 | $241867.92 | $14856738.87\n",
            "$660997.98 | $425766.28 | $235231.70 | $14430972.59\n",
            "$660997.98 | $432507.58 | $228490.40 | $13998465.01\n",
            "$660997.98 | $439355.62 | $221642.36 | $13559109.39\n",
            "$660997.98 | $446312.08 | $214685.90 | $13112797.31\n",
            "$660997.98 | $453378.69 | $207619.29 | $12659418.62\n",
            "$660997.98 | $460557.19 | $200440.79 | $12198861.44\n",
            "$660997.98 | $467849.34 | $193148.64 | $11731012.09\n",
            "$660997.98 | $475256.96 | $185741.02 | $11255755.14\n",
            "$660997.98 | $482781.86 | $178216.12 | $10772973.28\n",
            "$660997.98 | $490425.90 | $170572.08 | $10282547.38\n",
            "$660997.98 | $498190.98 | $162807.00 | $9784356.40\n",
            "$660997.98 | $506079.00 | $154918.98 | $9278277.40\n",
            "$660997.98 | $514091.92 | $146906.06 | $8764185.47\n",
            "$660997.98 | $522231.71 | $138766.27 | $8241953.76\n",
            "$660997.98 | $530500.38 | $130497.60 | $7711453.39\n",
            "$660997.98 | $538899.97 | $122098.01 | $7172553.42\n",
            "$660997.98 | $547432.55 | $113565.43 | $6625120.87\n",
            "$660997.98 | $556100.23 | $104897.75 | $6069020.63\n",
            "$660997.98 | $564905.15 | $96092.83 | $5504115.48\n",
            "$660997.98 | $573849.48 | $87148.50 | $4930265.99\n",
            "$660997.98 | $582935.44 | $78062.54 | $4347330.56\n",
            "$660997.98 | $592165.25 | $68832.73 | $3755165.31\n",
            "$660997.98 | $601541.20 | $59456.78 | $3153624.12\n",
            "$660997.98 | $611065.60 | $49932.38 | $2542558.52\n",
            "$660997.98 | $620740.80 | $40257.18 | $1921817.72\n",
            "$660997.98 | $630569.20 | $30428.78 | $1291248.52\n",
            "$660997.98 | $640553.21 | $20444.77 | $650695.30\n",
            "$660997.98 | $650695.30 | $10302.68 | $0.00\n"
          ]
        }
      ]
    },
    {
      "cell_type": "markdown",
      "source": [
        "**22) Escribe un programa que determine si un número dado es un número perfecto o no.**"
      ],
      "metadata": {
        "id": "XFmiP-Y5Mops"
      }
    },
    {
      "cell_type": "code",
      "source": [
        "def numero_perfecto(numero):\n",
        "    suma_divisores = 0\n",
        "    for i in range(1, numero):\n",
        "        if numero % i == 0:\n",
        "            suma_divisores += i\n",
        "    return suma_divisores == numero\n",
        "\n",
        "# Ejemplo de uso\n",
        "numero_ingresado = int(input(\"Ingresa un número: \"))\n",
        "if numero_perfecto(numero_ingresado):\n",
        "    print(f\"{numero_ingresado} es un número perfecto.\")\n",
        "else:\n",
        "    print(f\"{numero_ingresado} no es un número perfecto.\")\n"
      ],
      "metadata": {
        "colab": {
          "base_uri": "https://localhost:8080/"
        },
        "id": "ZfKAFLwEMwIG",
        "outputId": "3890824a-a6be-4a52-a637-122ea1c10212"
      },
      "execution_count": 6,
      "outputs": [
        {
          "output_type": "stream",
          "name": "stdout",
          "text": [
            "Ingresa un número: 524897\n",
            "524897 no es un número perfecto.\n"
          ]
        }
      ]
    },
    {
      "cell_type": "markdown",
      "source": [
        "**23) Define un diccionario que almacene las tasas de interés para diferentes tipos de préstamos. Pide al usuario que ingrese un tipo de préstamo y muestra la tasa de interés correspondiente.**"
      ],
      "metadata": {
        "id": "gh9Atr84M7cz"
      }
    },
    {
      "cell_type": "code",
      "source": [
        "def tasa_interes(diccionario_tasas, tipo_prestamo):\n",
        "    if tipo_prestamo in diccionario_tasas:\n",
        "        tasa = diccionario_tasas[tipo_prestamo]\n",
        "        print(f\"La tasa de interés para el préstamo '{tipo_prestamo}' es: {tasa}%\")\n",
        "    else:\n",
        "        print(\"El tipo de préstamo ingresado no se encuentra en el diccionario.\")\n",
        "\n",
        "# Definir el diccionario de tasas de interés\n",
        "tasas_interes = {\n",
        "    \"personal\": 4.5,\n",
        "    \"hipotecario\": 5.2,\n",
        "    \"automotriz\": 17.0\n",
        "}\n",
        "\n",
        "# Solicitar al usuario que ingrese un tipo de préstamo\n",
        "tipo_prestamo_ingresado = input(\"Ingresa el tipo de préstamo: \")\n",
        "\n",
        "# Mostrar la tasa de interés correspondiente utilizando la función\n",
        "tasa_interes(tasas_interes, tipo_prestamo_ingresado)\n",
        "\n"
      ],
      "metadata": {
        "colab": {
          "base_uri": "https://localhost:8080/"
        },
        "id": "jHEhSKO2M_Xa",
        "outputId": "99917deb-4c57-476e-bdfc-9588a928476c"
      },
      "execution_count": 9,
      "outputs": [
        {
          "output_type": "stream",
          "name": "stdout",
          "text": [
            "Ingresa el tipo de préstamo: automotriz\n",
            "La tasa de interés para el préstamo 'automotriz' es: 17.0%\n"
          ]
        }
      ]
    },
    {
      "cell_type": "markdown",
      "source": [
        "**24) Escribe una función calcular_media_geometrica que calcule la media geométrica de una lista de números.**"
      ],
      "metadata": {
        "id": "x3KJJURlNYgY"
      }
    },
    {
      "cell_type": "code",
      "source": [
        "def calcular_media_geometrica(lista_numeros):\n",
        "    producto = 1\n",
        "    cantidad_numeros = len(lista_numeros)\n",
        "\n",
        "    for numero in lista_numeros:\n",
        "        producto *= numero\n",
        "\n",
        "    media_geometrica = producto ** (1 / cantidad_numeros)\n",
        "    return media_geometrica\n",
        "\n",
        "# Ejemplo de uso\n",
        "numeros = [2, 4, 12, 16, 42]\n",
        "media_geometrica_calculada = calcular_media_geometrica(numeros)\n",
        "\n",
        "print(f\"La media geométrica de la lista es: {media_geometrica_calculada:.2f}\")\n"
      ],
      "metadata": {
        "colab": {
          "base_uri": "https://localhost:8080/"
        },
        "id": "3Y_iu1mgNcl3",
        "outputId": "6cc809d3-274f-40c2-d798-185f6e057fad"
      },
      "execution_count": 12,
      "outputs": [
        {
          "output_type": "stream",
          "name": "stdout",
          "text": [
            "La media geométrica de la lista es: 9.16\n"
          ]
        }
      ]
    },
    {
      "cell_type": "markdown",
      "source": [
        "**25) Crea una lista de números y utiliza una función para encontrar el segundo número más grande.**"
      ],
      "metadata": {
        "id": "N-SWyXIjNtFj"
      }
    },
    {
      "cell_type": "code",
      "source": [
        "def encontrar_segundo_numero_mas_grande(numeros):\n",
        "    if len(numeros) < 2:\n",
        "        return None\n",
        "\n",
        "    primer_mas_grande = max(numeros)\n",
        "    lista_sin_primer_mas_grande = [numero for numero in numeros if numero != primer_mas_grande]\n",
        "    segundo_mas_grande = max(lista_sin_primer_mas_grande)\n",
        "    return segundo_mas_grande\n",
        "\n",
        "# Crear una lista de números\n",
        "numeros = [25, 100, 40, 155, 30]\n",
        "\n",
        "# Encontrar el segundo número más grande utilizando la función\n",
        "segundo_mas_grande = encontrar_segundo_numero_mas_grande(numeros)\n",
        "\n",
        "if segundo_mas_grande is not None:\n",
        "    print(f\"El segundo número más grande es: {segundo_mas_grande}\")\n",
        "else:\n",
        "    print(\"No hay suficientes números en la lista para encontrar el segundo más grande.\")\n"
      ],
      "metadata": {
        "colab": {
          "base_uri": "https://localhost:8080/"
        },
        "id": "ctArBVi_Nx14",
        "outputId": "a4d1d142-2ee8-44f7-a978-c10628219a61"
      },
      "execution_count": 14,
      "outputs": [
        {
          "output_type": "stream",
          "name": "stdout",
          "text": [
            "El segundo número más grande es: 100\n"
          ]
        }
      ]
    },
    {
      "cell_type": "markdown",
      "source": [
        "**26) Escribe un programa que calcule e imprima los primeros\n",
        " números de la serie de los números de Lucas a discresión del usuario.**\n"
      ],
      "metadata": {
        "id": "j5QvsxoaOBKC"
      }
    },
    {
      "cell_type": "code",
      "source": [
        "def calcular_numeros_lucas(n):\n",
        "    numeros_lucas = [2, 1]\n",
        "\n",
        "    while len(numeros_lucas) < n:\n",
        "        siguiente_numero = numeros_lucas[-1] + numeros_lucas[-2]\n",
        "        numeros_lucas.append(siguiente_numero)\n",
        "\n",
        "    return numeros_lucas\n",
        "\n",
        "# Solicitar al usuario la cantidad de números de la serie de Lucas a generar\n",
        "cantidad_numeros = int(input(\"Ingresa la cantidad de números de la serie de Lucas a generar: \"))\n",
        "\n",
        "# Calcular e imprimir los primeros números de la serie de Lucas\n",
        "numeros_lucas = calcular_numeros_lucas(cantidad_numeros)\n",
        "print(\"Números de Lucas:\")\n",
        "print(numeros_lucas)\n"
      ],
      "metadata": {
        "colab": {
          "base_uri": "https://localhost:8080/"
        },
        "id": "Dla04a5AOLsa",
        "outputId": "66bd5c58-b65b-4677-a9bb-5a2b687a9f6a"
      },
      "execution_count": 17,
      "outputs": [
        {
          "output_type": "stream",
          "name": "stdout",
          "text": [
            "Ingresa la cantidad de números de la serie de Lucas a generar: 4\n",
            "Números de Lucas:\n",
            "[2, 1, 3, 4]\n"
          ]
        }
      ]
    },
    {
      "cell_type": "markdown",
      "source": [
        "**27) rea una función calcular_cuota_mensual que calcule la cuota mensual de un préstamo hipotecario.**"
      ],
      "metadata": {
        "id": "c6dVASZwOY5d"
      }
    },
    {
      "cell_type": "code",
      "source": [
        "def cuota_mensual(monto_prestamo, tasa_interes_anual, plazo_anios):\n",
        "    tasa_interes_mensual = tasa_interes_anual / 12 / 100\n",
        "    numero_pagos = plazo_anios * 12\n",
        "    cuota_mensual = (monto_prestamo * tasa_interes_mensual) / (1 - (1 + tasa_interes_mensual)**-numero_pagos)\n",
        "    return cuota_mensual\n",
        "\n",
        "# Ejemplo de uso\n",
        "monto_prestamo = float(input(\"Monto del préstamo: \"))\n",
        "tasa_interes_anual = float(input(\"Interés anual (%): \"))\n",
        "plazo_anios = int(input(\"Plazo en años: \"))\n",
        "\n",
        "cuota_mensual_calculada = cuota_mensual(monto_prestamo, tasa_interes_anual, plazo_anios)\n",
        "print(f\"La cuota mensual del préstamo es: {cuota_mensual_calculada:.2f}\")\n"
      ],
      "metadata": {
        "colab": {
          "base_uri": "https://localhost:8080/"
        },
        "id": "CXhclgOuOdSk",
        "outputId": "017b156e-0a87-417f-9492-a4e40221eef2"
      },
      "execution_count": 18,
      "outputs": [
        {
          "output_type": "stream",
          "name": "stdout",
          "text": [
            "Monto del préstamo: 41722\n",
            "Interés anual (%): 14\n",
            "Plazo en años: 2\n",
            "La cuota mensual del préstamo es: 2003.19\n"
          ]
        }
      ]
    },
    {
      "cell_type": "markdown",
      "source": [
        "**28) Escribe una función que determine si un número es un número de Armstrong (un número de n dígitos que es igual a la suma de sus dígitos elevados a la n).**"
      ],
      "metadata": {
        "id": "leufWmPROxfI"
      }
    },
    {
      "cell_type": "code",
      "source": [
        "def es_numero_armstrong(numero):\n",
        "    n = len(str(numero))\n",
        "    suma = 0\n",
        "    temp = numero\n",
        "\n",
        "    while temp > 0:\n",
        "        digito = temp % 10\n",
        "        suma += digito ** n\n",
        "        temp //= 10\n",
        "\n",
        "    return numero == suma\n",
        "\n",
        "# Ejemplo de uso\n",
        "numero_ingresado = int(input(\"Ingresa un número: \"))\n",
        "if es_numero_armstrong(numero_ingresado):\n",
        "    print(f\"{numero_ingresado} es un número de Armstrong.\")\n",
        "else:\n",
        "    print(f\"{numero_ingresado} no es un número de Armstrong.\")\n"
      ],
      "metadata": {
        "colab": {
          "base_uri": "https://localhost:8080/"
        },
        "id": "Mpp9F4dUO3Et",
        "outputId": "f1e6ac4a-f181-432c-8447-9d967f64b7dd"
      },
      "execution_count": 19,
      "outputs": [
        {
          "output_type": "stream",
          "name": "stdout",
          "text": [
            "Ingresa un número: 14\n",
            "14 no es un número de Armstrong.\n"
          ]
        }
      ]
    },
    {
      "cell_type": "markdown",
      "source": [
        "**29) Define un diccionario que almacene los símbolos de moneda y sus respectivos códigos. Escribe un programa que convierta una cantidad de dinero de una moneda a otra.**"
      ],
      "metadata": {
        "id": "YmU7HnzuO9WU"
      }
    },
    {
      "cell_type": "code",
      "source": [
        "def convertir_moneda(cantidad, moneda_origen, moneda_destino, tasas_cambio):\n",
        "    if moneda_origen in tasas_cambio and moneda_destino in tasas_cambio:\n",
        "        tasa_origen = tasas_cambio[moneda_origen]\n",
        "        tasa_destino = tasas_cambio[moneda_destino]\n",
        "        cantidad_convertida = cantidad * (tasa_destino / tasa_origen)\n",
        "        return cantidad_convertida\n",
        "    else:\n",
        "        return None\n",
        "\n",
        "# Definir el diccionario de tasas de cambio (símbolos de moneda y sus códigos)\n",
        "tasas_cambio = {\n",
        "    \"USD\": 1.0,\n",
        "    \"EUR\": 0.85,\n",
        "    \"GBP\": 0.72,\n",
        "    \"JPY\": 109.38\n",
        "}\n",
        "\n",
        "# Solicitar al usuario los detalles de la conversión\n",
        "cantidad = float(input(\"Ingresa la cantidad de dinero: \"))\n",
        "moneda_origen = input(\"Ingresa la moneda de origen (símbolo): \").upper()\n",
        "moneda_destino = input(\"Ingresa la moneda de destino (símbolo): \").upper()\n",
        "\n",
        "# Realizar la conversión utilizando la función\n",
        "cantidad_convertida = convertir_moneda\n"
      ],
      "metadata": {
        "colab": {
          "base_uri": "https://localhost:8080/"
        },
        "id": "e1jOdmziPA3h",
        "outputId": "0c593f02-c97e-481f-e487-263af7ce2493"
      },
      "execution_count": 24,
      "outputs": [
        {
          "name": "stdout",
          "output_type": "stream",
          "text": [
            "Ingresa la cantidad de dinero: 65868\n",
            "Ingresa la moneda de origen (símbolo): USD\n",
            "Ingresa la moneda de destino (símbolo): EUR\n"
          ]
        }
      ]
    },
    {
      "cell_type": "markdown",
      "source": [
        "**30) Crea una función que calcule la desviación estándar de una lista de números.**"
      ],
      "metadata": {
        "id": "y_zIxY-IPaGj"
      }
    },
    {
      "cell_type": "code",
      "source": [
        "import math\n",
        "\n",
        "def calcular_desviacion_estandar(lista_numeros):\n",
        "    n = len(lista_numeros)\n",
        "    if n <= 1:\n",
        "        return None\n",
        "\n",
        "    media = sum(lista_numeros) / n\n",
        "    suma_cuadrados = sum((numero - media) ** 2 for numero in lista_numeros)\n",
        "    desviacion_estandar = math.sqrt(suma_cuadrados / (n - 1))\n",
        "    return desviacion_estandar\n",
        "\n",
        "# Ejemplo de uso\n",
        "numeros = [12, 15, 18, 1, 24]\n",
        "desviacion_calculada = calcular_desviacion_estandar(numeros)\n",
        "\n",
        "if desviacion_calculada is not None:\n",
        "    print(f\"La desviación estándar de la lista es: {desviacion_calculada:.2f}\")\n",
        "else:\n",
        "    print(\"No se puede calcular la desviación estándar para una lista con menos de dos números.\")\n"
      ],
      "metadata": {
        "colab": {
          "base_uri": "https://localhost:8080/"
        },
        "id": "BFbppgphPgHS",
        "outputId": "2ea79f9c-2308-4f6a-9742-9e799ecf72d7"
      },
      "execution_count": 26,
      "outputs": [
        {
          "output_type": "stream",
          "name": "stdout",
          "text": [
            "La desviación estándar de la lista es: 8.51\n"
          ]
        }
      ]
    },
    {
      "cell_type": "code",
      "source": [],
      "metadata": {
        "id": "pH7tnOwUPrXP"
      },
      "execution_count": null,
      "outputs": []
    }
  ]
}